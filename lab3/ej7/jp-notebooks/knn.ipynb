{
 "cells": [
  {
   "cell_type": "markdown",
   "metadata": {},
   "source": [
    "# K - Nearest Neighbors"
   ]
  },
  {
   "cell_type": "code",
   "execution_count": null,
   "metadata": {
    "collapsed": true
   },
   "outputs": [],
   "source": [
    "import sys\n",
    "import pandas as pd\n",
    "import matplotlib.pyplot as plt\n",
    "from IPython.display import display\n",
    "\n",
    "sys.path.append('../src') # permite importar modulos locales\n",
    "pd.options.display.max_columns = None # permite mostrar todas las columnas de los DataFrames"
   ]
  },
  {
   "cell_type": "code",
   "execution_count": null,
   "metadata": {
    "collapsed": true
   },
   "outputs": [],
   "source": [
    "from ds_preprocessing import DataSetPreprocessor\n",
    "from arff_helper import DataSet\n",
    "from metrics import accuracy_score\n",
    "from kfold import KFold\n",
    "from classifier import KNNClassifier"
   ]
  },
  {
   "cell_type": "markdown",
   "metadata": {},
   "source": [
    "## Preprocesamiento del dataset de entrenamiento\n",
    "\n",
    "Se preprocesa el dataset de entrenamiento para transformarlo en otro que permita calcular distancias euclidianas entre las instancias"
   ]
  },
  {
   "cell_type": "code",
   "execution_count": null,
   "metadata": {
    "collapsed": true
   },
   "outputs": [],
   "source": [
    "training_ds = DataSet()\n",
    "training_ds.load_from_arff('../datasets/Autism-Adult-Training-Subset.arff')\n",
    "preprocessor = DataSetPreprocessor(training_ds, 'Class/ASD')\n",
    "preprocessed_training_df = preprocessor.transform_to_rn()"
   ]
  },
  {
   "cell_type": "markdown",
   "metadata": {},
   "source": [
    "## Testeo general"
   ]
  },
  {
   "cell_type": "markdown",
   "metadata": {},
   "source": [
    "### Resultados de predicciones \n",
    "\n",
    "El objetivo aquí es observar los valores devueltos para el atributo objetivo (```YES``` o ```NO```). Se toman N instancias al azar del conjunto de entrenamiento y se imprimen los valores. "
   ]
  },
  {
   "cell_type": "code",
   "execution_count": null,
   "metadata": {
    "scrolled": false
   },
   "outputs": [],
   "source": [
    "N = 5\n",
    "test_df = preprocessed_training_df.sample(N)\n",
    "training_df = preprocessed_training_df.loc[~preprocessed_training_df.index.isin(test_df.index), :]\\\n",
    "    .reset_index()\\\n",
    "    .drop(columns=['index'], axis=1)\n",
    "test_df = test_df\\\n",
    "    .reset_index()\\\n",
    "    .drop(columns=['index'], axis=1)\n",
    "\n",
    "classifier = KNNClassifier(1, target_attribute='Class/ASD')\n",
    "classifier.fit(training_df)\n",
    "\n",
    "print()\n",
    "for i in range(N):\n",
    "    predicted_value = classifier.predict(test_df.loc[i])\n",
    "    real_value = test_df.loc[i]['Class/ASD']\n",
    "    print('Real value : {}, Predicted: {}'.format(real_value, predicted_value))\n",
    "print()"
   ]
  },
  {
   "cell_type": "markdown",
   "metadata": {},
   "source": [
    "### Instancias vecinas\n",
    "\n",
    "El objetivo aquí es observar las instancias vecinas (determinadas por K) de las instancias que se quieren predecir para ver las similitudes y/o diferencias. La primer instancia en la tabla corresponde a la que se quiere predecir y las siguientes son sus vecinas. Se reordenan las columnas de dicha tabla de forma que las dos últimas columnas sean: \n",
    "\n",
    "- ```Class/ASD``` : atributo objetivo \n",
    "- ```distance``` : distancia entre la instancia correspondiente a la fila y la instancia que se quiere predecir (primer fila)"
   ]
  },
  {
   "cell_type": "code",
   "execution_count": null,
   "metadata": {
    "scrolled": false
   },
   "outputs": [],
   "source": [
    "instance_index = 536 # indice en el DataFrame original\n",
    "instance = preprocessed_training_df.iloc[[instance_index]]\n",
    "training_df = preprocessed_training_df.loc[~preprocessed_training_df.index.isin([instance_index]), :]\\\n",
    "    .reset_index()\\\n",
    "    .drop(columns=['index'], axis=1)\n",
    "instance = instance.reset_index()\\\n",
    "    .drop(columns=['index'], axis=1)\n",
    "\n",
    "classifier = KNNClassifier(3, target_attribute='Class/ASD')\n",
    "classifier.fit(training_df)\n",
    "(predicted_value, neighbours) = classifier.predict(instance.loc[0], return_neighbours=True)\n",
    "print('\\nPredicted value = {}'.format(predicted_value))\n",
    "df = pd.concat([instance, neighbours])\n",
    "cols = list(df.columns.values)\n",
    "cols.pop(cols.index('Class/ASD'))\n",
    "cols.pop(cols.index('distance')) \n",
    "df[cols+['Class/ASD','distance']]"
   ]
  },
  {
   "cell_type": "markdown",
   "metadata": {},
   "source": [
    "## Evaluación del algoritmo\n",
    "\n",
    "<br/>\n",
    "\n",
    "Utilizando K-Fold y una métrica de evaluación (ej.: accuracy, precision, etc.), el objetivo es obtener mas resultados que solamente los K que se obtendrían con la estrategia de evaluación clásica variando K veces el conjunto de entrenamiento. \n",
    "\n",
    "A continuación se resumen los pasos :\n",
    "\n",
    "<br/>\n",
    "\n",
    "1. Sea $R$ una lista vacía, repetir ```n``` veces :\n",
    "\n",
    "    1. Instanciar ```KFold``` para particionar el conjunto de entrenamiento ```t``` en ```k_for_k_fold``` partes:<br/><br/><br/>&nbsp;&nbsp;&nbsp;&nbsp;```kf = KFold(n_splits=k_for_k_fold, do_shuffle=True)```<br/><br/>            \n",
    "    2. Obtener los índices de las particiones de ```t``` :<br/><br/>&nbsp;&nbsp;&nbsp;&nbsp;```L = kf.split(t)```<br/><br/>\n",
    "    3. Sea $L = [(T_{1}, E_{1}), ... , (T_{k\\_for\\_k\\_fold}, E_{k\\_for\\_k\\_fold})]$ el particionamiento con ```KFold```, para cada tupla $(T_{i}, E_{i})$ con los conjuntos de entrenamiento y evaluación respectivamente :\n",
    "    \n",
    "        1. Entrenar el algoritmo con el conjunto $T_{i}$\n",
    "        2. Predecir los valores del atributo objetivo para todas las instancias en $E_{i}$\n",
    "        3. Comparar los valores predecidos con los valores ya marcados en $E_{i}$ utilizando alguna métrica (ej.: accuracy).\n",
    "        4. Agregar el resultado de la métrica a $R$.\n",
    "\n",
    "<br/>\n",
    "\n",
    "Aclaraciones: \n",
    "   - En cada tupla $(T_{i}, E_{i})$, $T_{i}$ y $E_{i}$ no son las instancias de ```e```, sino las listas de índices para obtener las instancias de ```t``` para entrenamiento y evaluación respectivamente. \n",
    "   - Al final $R$ tendrá ```n*k_for_k_fold``` resultados de evaluar con la métrica elegida.\n",
    "   - A pesar de que se repiten ```n``` veces las ```k_for_k_fold``` pasadas de K-Fold, al utilizar el parámetro ```do_shuffle```, todo el dataset ```t``` será mezclado antes de realizar el particionamiento. Sin esto, las ```n``` pasadas de ```K-Fold``` darían exactamente los mismos resultados.\n",
    "        \n"
   ]
  },
  {
   "cell_type": "code",
   "execution_count": 29,
   "metadata": {
    "scrolled": false
   },
   "outputs": [
    {
     "name": "stdout",
     "output_type": "stream",
     "text": [
      "[>>>>>>>>>>>>>>]\r"
     ]
    },
    {
     "data": {
      "image/png": "[encoded data removed]",
      "text/plain": [
       "<Figure size 720x720 with 1 Axes>"
      ]
     },
     "metadata": {},
     "output_type": "display_data"
    }
   ],
   "source": [
    "n = 2\n",
    "k_for_k_fold = 7\n",
    "target_attribute='Class/ASD'\n",
    "accuracies_1_nn = []\n",
    "accuracies_3_nn = []\n",
    "accuracies_7_nn = []\n",
    "classifier_1_nn = KNNClassifier(1, target_attribute)\n",
    "classifier_3_nn = KNNClassifier(3, target_attribute)\n",
    "classifier_7_nn = KNNClassifier(7, target_attribute)\n",
    "\n",
    "for i in range(n):\n",
    "    \n",
    "    kf = KFold(n_splits=k_for_k_fold, do_shuffle=True)\n",
    "    indexes = kf.split(preprocessed_training_df)\n",
    "    \n",
    "    for test_indexes, training_indexes in indexes:\n",
    "        \n",
    "        df_test = preprocessed_training_df.iloc[test_indexes]\n",
    "        df_train = preprocessed_training_df.iloc[training_indexes] \\\n",
    "            .reset_index()\\\n",
    "            .drop(columns=['index'], axis=1) # prevent warning ../src/k_nearest_neighbor.py:31: SettingWithCopyWarning\n",
    "        \n",
    "        classifier_1_nn.fit(df_train)\n",
    "        classifier_3_nn.fit(df_train)\n",
    "        classifier_7_nn.fit(df_train)\n",
    "        \n",
    "        y_predicted_1_nn = df_test.apply(lambda row: classifier_1_nn.predict(row), axis=1)\n",
    "        y_predicted_3_nn = df_test.apply(lambda row: classifier_3_nn.predict(row), axis=1)\n",
    "        y_predicted_7_nn = df_test.apply(lambda row: classifier_7_nn.predict(row), axis=1)\n",
    "        \n",
    "        y_true = df_test[target_attribute]\n",
    "        \n",
    "        accuracies_1_nn.append(accuracy_score(y_predicted_1_nn, y_true))\n",
    "        accuracies_3_nn.append(accuracy_score(y_predicted_3_nn, y_true))\n",
    "        accuracies_7_nn.append(accuracy_score(y_predicted_7_nn, y_true))\n",
    "        \n",
    "        print('[' + '>'*len(accuracies_1_nn) + ' '*((n*k_for_k_fold)-len(accuracies_1_nn)) + ']', end='\\r')\n",
    "        \n",
    "plt.figure(figsize=(10,10))\n",
    "plt.ylabel('Accuracy')\n",
    "plt.axis([0, (n*k_for_k_fold)-1, 0, 1])\n",
    "plt.grid(True)\n",
    "\n",
    "plt.plot(accuracies_1_nn, color='r', label='1-NN')\n",
    "plt.plot(accuracies_3_nn, color='g', label='3-NN')\n",
    "plt.plot(accuracies_7_nn, color='b', label='7-NN')\n",
    "\n",
    "plt.legend(loc=0)\n",
    "plt.show()"
   ]
  }
 ],
 "metadata": {
  "kernelspec": {
   "display_name": "Python 3",
   "language": "python",
   "name": "python3"
  },
  "language_info": {
   "codemirror_mode": {
    "name": "ipython",
    "version": 3
   },
   "file_extension": ".py",
   "mimetype": "text/x-python",
   "name": "python",
   "nbconvert_exporter": "python",
   "pygments_lexer": "ipython3",
   "version": "3.6.2"
  }
 },
 "nbformat": 4,
 "nbformat_minor": 2
}
