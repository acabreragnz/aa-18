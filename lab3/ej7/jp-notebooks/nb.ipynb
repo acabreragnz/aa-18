{
 "cells": [
  {
   "cell_type": "markdown",
   "metadata": {},
   "source": [
    "# Naive Bayes"
   ]
  },
  {
   "cell_type": "code",
   "execution_count": 2,
   "metadata": {},
   "outputs": [],
   "source": [
    "import sys\n",
    "import pandas as pd\n",
    "import matplotlib.pyplot as plt\n",
    "from IPython.display import display\n",
    "from tabulate import tabulate\n",
    "\n",
    "sys.path.append('../src') # permite importar modulos locales"
   ]
  },
  {
   "cell_type": "code",
   "execution_count": 3,
   "metadata": {},
   "outputs": [],
   "source": [
    "from arff_helper import DataSet\n",
    "from metrics import accuracy_score, recall_score \n",
    "from classifier import NBClassifier\n",
    "from k_fold_cross_validation import k_fold_cross_validation"
   ]
  },
  {
   "cell_type": "markdown",
   "metadata": {},
   "source": [
    "# Ejemplo Clase"
   ]
  },
  {
   "cell_type": "code",
   "execution_count": 4,
   "metadata": {},
   "outputs": [
    {
     "name": "stdout",
     "output_type": "stream",
     "text": [
      "Real value : NO, Predicted: NO\n",
      "Real value : NO, Predicted: NO\n",
      "Real value : YES, Predicted: YES\n",
      "Real value : YES, Predicted: YES\n",
      "Real value : YES, Predicted: YES\n",
      "Real value : NO, Predicted: YES\n",
      "Real value : YES, Predicted: YES\n",
      "Real value : NO, Predicted: NO\n",
      "Real value : YES, Predicted: YES\n",
      "Real value : YES, Predicted: YES\n",
      "Real value : YES, Predicted: YES\n",
      "Real value : YES, Predicted: YES\n",
      "Real value : YES, Predicted: YES\n",
      "Real value : NO, Predicted: NO\n",
      "Cantidad de errores: 1\n"
     ]
    }
   ],
   "source": [
    "ds = DataSet()\n",
    "ds.load_from_arff('../datasets/dataset_clase.arff')\n",
    "target_attribute='Juega'\n",
    "classifier = NBClassifier(target_attribute, ds.attribute_info, ds.attribute_list)\n",
    "classifier.fit (ds.pandas_df)\n",
    "\n",
    "errors = 0\n",
    "for i in range (ds.pandas_df.shape[0]):\n",
    "    instance = ds.pandas_df.loc[i]\n",
    "    predict_result = classifier.predict(instance)\n",
    "    print(f'Real value : {instance[target_attribute]}, Predicted: {predict_result}')\n",
    "    if instance[target_attribute] != predict_result:\n",
    "        errors = errors + 1\n",
    "print(f'Cantidad de errores: {errors}')        \n"
   ]
  },
  {
   "cell_type": "markdown",
   "metadata": {},
   "source": [
    "## Evaluación del algoritmo\n",
    "\n",
    "1. Separe 4/5 del conjunto de entrenamiento y realice una validación cruzada de tamaño 10.\n",
    "\n",
    "2. Con el 1/5 no utilizado en la parte previa evalúe al resultado de entrenar con los 4/5 restantes.\n",
    "\n",
    "Metricas:\n",
    "\n",
    "    Acuracy: Se calcula la proporcion de predicciones correctas.\n",
    "    Recall: Se calcula que proporción de positivos reales se identificaron correctamente.\n",
    "\n"
   ]
  },
  {
   "cell_type": "code",
   "execution_count": 5,
   "metadata": {
    "scrolled": false
   },
   "outputs": [
    {
     "name": "stdout",
     "output_type": "stream",
     "text": [
      "K fold validation :\n",
      "\n",
      "  #    Accuracy     Recal\n",
      "---  ----------  --------\n",
      "  1    1         1\n",
      "  2    0.911111  1\n",
      "  3    0.955556  1\n",
      "  4    0.888889  0.8\n",
      "  5    0.955556  1\n",
      "  6    0.911111  0.888889\n",
      "  7    0.955556  1\n",
      "  8    0.955556  0.933333\n",
      "  9    0.977778  0.928571\n",
      " 10    0.933333  0.866667\n",
      "\n",
      "T=1/5 S=4/5 :\n",
      "\n",
      "Metric\n",
      "--------  --------\n",
      "Accuracy  0.902655\n",
      "Recal     0.793103\n"
     ]
    },
    {
     "data": {
      "image/png": "[encoded data removed]",
      "text/plain": [
       "<Figure size 720x720 with 1 Axes>"
      ]
     },
     "metadata": {},
     "output_type": "display_data"
    }
   ],
   "source": [
    "ds = DataSet()\n",
    "ds.load_from_arff('../datasets/Autism-Adult-Training-Subset.arff')    \n",
    "target_attribute = 'Class/ASD'\n",
    "\n",
    "k_for_k_fold = 10\n",
    "metrics = [accuracy_score, recall_score]\n",
    "\n",
    "# Separo el dataset original en 4/5 y 1/5\n",
    "train_pandas_df = ds.pandas_df.sample (frac=0.8)\n",
    "test_pandas_df = ds.pandas_df.loc[~ds.pandas_df.index.isin (train_pandas_df.index), :]\n",
    "\n",
    "ds_train = DataSet ()\n",
    "ds_train.load_from_pandas_df (train_pandas_df, ds.attribute_info, ds.attribute_list)\n",
    "\n",
    "# Instancio clasificador nb para realizar la validacion\n",
    "classifier = NBClassifier (target_attribute, ds.attribute_info, ds.attribute_list)\n",
    "\n",
    "# Con los 4/5 se realiza una validación cruzada de tamaño 10, usando distintas metricas\n",
    "metrics_result_kfold = k_fold_cross_validation(ds_train, target_attribute, k_for_k_fold, classifier, metrics)\n",
    "\n",
    "#Entreno con los 4/5 y valido con el 1/5 restante\n",
    "classifier.fit(train_pandas_df)\n",
    "y_predicted = test_pandas_df.apply(lambda row: classifier.predict (row), axis=1)\n",
    "y_true = test_pandas_df[target_attribute]\n",
    "\n",
    "#Presentacion de resultados\n",
    "x = [i+1 for i in range(k_for_k_fold)]\n",
    "\n",
    "table = [[x[i], metrics_result_kfold[0][i], metrics_result_kfold[1][i]] for i in range(k_for_k_fold)]\n",
    "print (\"K fold validation :\\n\")\n",
    "print (tabulate (table, headers=[\"#\", \"Accuracy\", \"Recal\"]))\n",
    "print ()\n",
    "\n",
    "table = [[\"Accuracy\", accuracy_score(y_predicted, y_true)], [\"Recal\",recall_score(y_predicted, y_true)]]\n",
    "print(\"T=1/5 S=4/5 :\\n\")\n",
    "print(tabulate (table, headers=[\"Metric\", \"\"]))\n",
    "\n",
    "#Metrica accurancy\n",
    "plt.figure (figsize=(10, 10))\n",
    "plt.ylabel ('Accuracy/Recall')\n",
    "plt.axis ([1, k_for_k_fold, 0, 1])\n",
    "plt.grid (True)\n",
    "plt.plot (x, metrics_result_kfold[0], color='r', label='kfold Accuracy')\n",
    "plt.plot (x, metrics_result_kfold[1], color='b', label='kfold Recal')\n",
    "plt.legend (loc=0)\n",
    "plt.show ()"
   ]
  },
  {
   "cell_type": "code",
   "execution_count": null,
   "metadata": {},
   "outputs": [],
   "source": []
  }
 ],
 "metadata": {
  "celltoolbar": "Raw Cell Format",
  "kernelspec": {
   "display_name": "Python 3",
   "language": "python",
   "name": "python3"
  },
  "language_info": {
   "codemirror_mode": {
    "name": "ipython",
    "version": 3
   },
   "file_extension": ".py",
   "mimetype": "text/x-python",
   "name": "python",
   "nbconvert_exporter": "python",
   "pygments_lexer": "ipython3",
   "version": "3.6.5"
  }
 },
 "nbformat": 4,
 "nbformat_minor": 2
}
