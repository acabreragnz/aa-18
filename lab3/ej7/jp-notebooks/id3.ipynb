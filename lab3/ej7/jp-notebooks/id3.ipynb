{
 "cells": [
  {
   "cell_type": "markdown",
   "metadata": {},
   "source": [
    "# ID3"
   ]
  },
  {
   "cell_type": "code",
   "execution_count": 33,
   "metadata": {},
   "outputs": [],
   "source": [
    "import sys\n",
    "import matplotlib.pyplot as plt\n",
    "from IPython.display import display\n",
    "from tabulate import tabulate\n",
    "\n",
    "sys.path.append('../../../../lab')# permite importar modulos locales"
   ]
  },
  {
   "cell_type": "code",
   "execution_count": 34,
   "metadata": {},
   "outputs": [],
   "source": [
    "from arff_helper import DataSet\n",
    "from missing_attributes import get_value_attribute_1, get_value_attribute_3\n",
    "from strategy import entropy\n",
    "from lab3.ej7.src.kfold import KFold\n",
    "from lab3.ej7.src.metrics import accuracy_score, recall_score\n",
    "from lab2.ej5.src.classifier import Classifier"
   ]
  },
  {
   "cell_type": "markdown",
   "metadata": {},
   "source": [
    "# Ejemplo Clase"
   ]
  },
  {
   "cell_type": "code",
   "execution_count": 35,
   "metadata": {},
   "outputs": [
    {
     "name": "stdout",
     "output_type": "stream",
     "text": [
      "Real value : NO, Predicted: NO\n",
      "Real value : NO, Predicted: NO\n",
      "Real value : YES, Predicted: YES\n",
      "Real value : YES, Predicted: YES\n",
      "Real value : YES, Predicted: YES\n",
      "Real value : NO, Predicted: NO\n",
      "Real value : YES, Predicted: YES\n",
      "Real value : NO, Predicted: NO\n",
      "Real value : YES, Predicted: YES\n",
      "Real value : YES, Predicted: YES\n",
      "Real value : YES, Predicted: YES\n",
      "Real value : YES, Predicted: YES\n",
      "Real value : YES, Predicted: YES\n",
      "Real value : NO, Predicted: NO\n",
      "Cantidad de errores: 0\n"
     ]
    }
   ],
   "source": [
    "ds = DataSet()\n",
    "ds.load_from_arff('../datasets/dataset_clase.arff')\n",
    "target_attribute='Juega'\n",
    "classifier = Classifier(entropy.select_attribute, target_attribute, get_value_attribute_1)\n",
    "classifier.fit (ds)\n",
    "\n",
    "errors = 0\n",
    "for i in range (ds.pandas_df.shape[0]):\n",
    "    instance = ds.pandas_df.loc[i]\n",
    "    predict_result = classifier.predict(instance)\n",
    "    print(f'Real value : {instance[target_attribute]}, Predicted: {predict_result}')\n",
    "    if instance[target_attribute] != predict_result:\n",
    "        errors = errors + 1\n",
    "print(f'Cantidad de errores: {errors}')        \n"
   ]
  },
  {
   "cell_type": "markdown",
   "metadata": {},
   "source": [
    "## Evaluación del algoritmo\n",
    "\n",
    "1. Separe 4/5 del conjunto de entrenamiento y realice una validación cruzada de tamaño 10.\n",
    "\n",
    "2. Con el 1/5 no utilizado en la parte previa evalúe al resultado de entrenar con los 4/5 restantes.\n",
    "\n",
    "Metricas:\n",
    "\n",
    "    Acuracy: Se calcula la proporcion de predicciones correctas.\n",
    "    Recall: Se calcula que proporción de positivos reales se identificaron correctamente.\n",
    "\n"
   ]
  },
  {
   "cell_type": "code",
   "execution_count": null,
   "metadata": {
    "scrolled": false
   },
   "outputs": [],
   "source": [
    "training_ds = DataSet ()\n",
    "training_ds.load_from_arff ('../datasets/Autism-Adult-Training-Subset.arff')\n",
    "\n",
    "test_ds = DataSet ()\n",
    "test_ds.load_from_arff ('../datasets/Autism-Adult-Test-Subset.arff')\n",
    "\n",
    "training_df = training_ds.pandas_df\n",
    "test_pandas_df = test_ds.pandas_df\n",
    "\n",
    "n = 2\n",
    "k_for_k_fold = 10\n",
    "target_attribute = 'Class/ASD'\n",
    "accuracies = []\n",
    "recall = []\n",
    "classifier = Classifier(entropy.select_attribute, target_attribute, get_value_attribute_1)\n",
    "\n",
    "table_kfold = []\n",
    "table = []\n",
    "for i in range (n):\n",
    "\n",
    "    kf = KFold (n_splits=k_for_k_fold, do_shuffle=True)\n",
    "    indexes = kf.split (training_df)\n",
    "\n",
    "    for test_indexes, training_indexes in indexes:\n",
    "        df_test = training_df.iloc[test_indexes]\n",
    "        df_train = training_df.iloc[training_indexes]\n",
    "\n",
    "        ds_df_train = DataSet()\n",
    "        ds_df_train.load_from_pandas_df(df_train, training_ds.attribute_info, training_ds.attribute_list)\n",
    "\n",
    "        classifier.fit(ds_df_train)\n",
    "        y_predicted = df_test.apply (lambda row: classifier.predict (row), axis=1)\n",
    "        y_true = df_test[target_attribute]\n",
    "\n",
    "        accuracies.append (accuracy_score (y_predicted, y_true))\n",
    "        recall.append(recall_score(y_predicted, y_true))\n",
    "\n",
    "    # Presentacion de resultados\n",
    "    x = [i + 1 for i in range (k_for_k_fold)]\n",
    "    for i in range (k_for_k_fold):\n",
    "        table_kfold.append ([x[i], accuracies[i], recall[i]])\n",
    "\n",
    "    classifier.fit(training_ds)\n",
    "    y_predicted = test_pandas_df.apply (lambda row: classifier.predict (row), axis=1)\n",
    "    y_true = test_pandas_df[target_attribute]\n",
    "\n",
    "    table.append([i, accuracy_score (y_predicted, y_true), recall_score(y_predicted, y_true)])\n",
    "\n",
    "\n",
    "print (\"K fold validation :\\n\")\n",
    "print (tabulate (table_kfold, headers=[\"#\", \"Accuracy\", \"Recall\"]))\n",
    "print ()\n",
    "print (\"T=1/5 S=4/5 :\\n\")\n",
    "print (tabulate (table, headers=[\"#\", \"Accuracy\", \"Recall\"]))\n",
    "\n",
    "plt.figure (figsize=(10, 10))\n",
    "plt.ylabel ('Accuracy/Recall')\n",
    "plt.axis ([0, (n * k_for_k_fold) - 1, 0, 1])\n",
    "plt.grid (True)\n",
    "\n",
    "plt.plot (accuracies, color='r', label='NB Accuracies')\n",
    "plt.plot (recall, color='g', label='NB Recall')\n",
    "\n",
    "plt.legend (loc=0)\n",
    "plt.show ()"
   ]
  },
  {
   "cell_type": "code",
   "execution_count": null,
   "metadata": {},
   "outputs": [],
   "source": []
  }
 ],
 "metadata": {
  "celltoolbar": "Raw Cell Format",
  "kernelspec": {
   "display_name": "Python 3",
   "language": "python",
   "name": "python3"
  },
  "language_info": {
   "codemirror_mode": {
    "name": "ipython",
    "version": 3
   },
   "file_extension": ".py",
   "mimetype": "text/x-python",
   "name": "python",
   "nbconvert_exporter": "python",
   "pygments_lexer": "ipython3",
   "version": "3.6.5"
  }
 },
 "nbformat": 4,
 "nbformat_minor": 2
}
