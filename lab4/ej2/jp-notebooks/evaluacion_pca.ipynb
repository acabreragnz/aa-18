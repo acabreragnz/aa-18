{
 "cells": [
  {
   "cell_type": "markdown",
   "metadata": {},
   "source": [
    "# Evaluación de los algoritmos antes y después de aplicar PCA\n",
    "\n",
    "## Imports y configuraciones"
   ]
  },
  {
   "cell_type": "code",
   "execution_count": 1,
   "metadata": {
    "collapsed": true
   },
   "outputs": [],
   "source": [
    "import sys\n",
    "import pandas as pd\n",
    "import matplotlib.pyplot as plt"
   ]
  },
  {
   "cell_type": "code",
   "execution_count": 2,
   "metadata": {
    "collapsed": true
   },
   "outputs": [],
   "source": [
    "from sklearn.metrics import accuracy_score"
   ]
  },
  {
   "cell_type": "code",
   "execution_count": 3,
   "metadata": {
    "collapsed": true
   },
   "outputs": [],
   "source": [
    "sys.path.append('../../../lab3/ej7/src') # permite importar modulos de otros directorios"
   ]
  },
  {
   "cell_type": "code",
   "execution_count": 4,
   "metadata": {
    "collapsed": true
   },
   "outputs": [],
   "source": [
    "from ds_preprocessing import DataSetPreprocessor\n",
    "from arff_helper import DataSet\n",
    "from classifier import KNNClassifier, NBClassifier\n",
    "from kfold import KFold"
   ]
  },
  {
   "cell_type": "markdown",
   "metadata": {},
   "source": [
    "## Carga y preprocesamiento de datasets\n",
    "\n",
    "### Carga y preprocesamiento del dataset original (```ds```) "
   ]
  },
  {
   "cell_type": "code",
   "execution_count": 5,
   "metadata": {
    "collapsed": true
   },
   "outputs": [],
   "source": [
    "ds = DataSet()\n",
    "ds.load_from_arff('../../../lab2/ej5/datasets/Autism-Adult-Data.arff')\n",
    "ds.remove_attribute('result')"
   ]
  },
  {
   "cell_type": "markdown",
   "metadata": {},
   "source": [
    "Observando más en detalle nuestro algoritmo de PCA, vimos que para las filas número 62 y número 91 de ```row_data_adjust```, luego del segundo paso un atributo vale ```nan``` provocando que al multiplicar las matrices ```row_feature_vector``` y ```row_data_adjust``` los datos correspondientes a esas persona queden todos en ```nan```. A su vez, esto se corroboró en el dataset original en formato arff, en donde para esas personas el atributo ```age``` no está definido. Por lo tanto, **decidimos simplemente borrarlas para que todos los datasets concuerden en la cantidad de filas**: <a id='link-1'></a>"
   ]
  },
  {
   "cell_type": "code",
   "execution_count": 6,
   "metadata": {
    "collapsed": true
   },
   "outputs": [],
   "source": [
    "ds.pandas_df = ds.pandas_df.drop([62, 91])\\\n",
    "    .reset_index()\\\n",
    "    .drop(columns=['index'])"
   ]
  },
  {
   "cell_type": "markdown",
   "metadata": {},
   "source": [
    "Separamos la columna con el atributo objetivo y la guardamos en ```y```:"
   ]
  },
  {
   "cell_type": "code",
   "execution_count": 7,
   "metadata": {
    "collapsed": true
   },
   "outputs": [],
   "source": [
    "target_attribute = 'Class/ASD'\n",
    "y = ds.pandas_df[target_attribute]"
   ]
  },
  {
   "cell_type": "markdown",
   "metadata": {},
   "source": [
    "### Transformación a atributos numéricos (```df_numeric```)"
   ]
  },
  {
   "cell_type": "code",
   "execution_count": 8,
   "metadata": {
    "collapsed": true,
    "scrolled": true
   },
   "outputs": [],
   "source": [
    "preprocessor = DataSetPreprocessor(ds, target_attribute)\n",
    "df_numeric = preprocessor.transform_to_rn()\\\n",
    "    .drop(columns=target_attribute)"
   ]
  },
  {
   "cell_type": "markdown",
   "metadata": {},
   "source": [
    "### Carga y preprocesamiento del dataset reducido a 96 dimensiones (```df_96```) \n",
    "\n",
    "Condición utilizada para selección de valores propios (parámetro ```eigenvalues_condition``` de la función ```pca``` del módulo ```pca.py```): \n",
    "\n",
    "$\\lambda_i$ con $\\lambda_i > 1x10^{-4}$ (todos menos los valores con exponente -17)"
   ]
  },
  {
   "cell_type": "code",
   "execution_count": 9,
   "metadata": {
    "collapsed": true
   },
   "outputs": [],
   "source": [
    "df_96 = pd.read_csv('../datasets/Autism-Adult-Data-96dim.csv')"
   ]
  },
  {
   "cell_type": "markdown",
   "metadata": {},
   "source": [
    "Chequeamos las dimensiones :"
   ]
  },
  {
   "cell_type": "code",
   "execution_count": 10,
   "metadata": {},
   "outputs": [
    {
     "name": "stdout",
     "output_type": "stream",
     "text": [
      "Filas del dataset original : 702\n",
      "Filas del dataset reducido : 702\n",
      "Columnas del dataset reducido : 96\n"
     ]
    }
   ],
   "source": [
    "print('Filas del dataset original : {}'.format(ds.pandas_df.shape[0]))\n",
    "print('Filas del dataset reducido : {}'.format(df_96.shape[0]))\n",
    "print('Columnas del dataset reducido : {}'.format(df_96.shape[1]))"
   ]
  },
  {
   "cell_type": "markdown",
   "metadata": {},
   "source": [
    "(recordar que fueron quitadas dos filas del dataset original)"
   ]
  },
  {
   "cell_type": "markdown",
   "metadata": {},
   "source": [
    "### Carga y preprocesamiento del dataset reducido a 67 dimensiones (```df_67```) \n",
    "\n",
    "Condición utilizada para selección de valores propios : $\\lambda_i$ con $\\lambda_i > 2x10^{-3}$ "
   ]
  },
  {
   "cell_type": "code",
   "execution_count": 11,
   "metadata": {
    "collapsed": true
   },
   "outputs": [],
   "source": [
    "df_67 = pd.read_csv('../datasets/Autism-Adult-Data-67dim.csv')"
   ]
  },
  {
   "cell_type": "markdown",
   "metadata": {},
   "source": [
    "Chequeamos las dimensiones :"
   ]
  },
  {
   "cell_type": "code",
   "execution_count": 12,
   "metadata": {},
   "outputs": [
    {
     "name": "stdout",
     "output_type": "stream",
     "text": [
      "Filas del dataset original : 702\n",
      "Filas del dataset reducido : 702\n",
      "Columnas del dataset reducido : 67\n"
     ]
    }
   ],
   "source": [
    "print('Filas del dataset original : {}'.format(ds.pandas_df.shape[0]))\n",
    "print('Filas del dataset reducido : {}'.format(df_67.shape[0]))\n",
    "print('Columnas del dataset reducido : {}'.format(df_67.shape[1]))"
   ]
  },
  {
   "cell_type": "markdown",
   "metadata": {},
   "source": [
    "### Carga y preprocesamiento del dataset reducido a 39 dimensiones (```df_39```) \n",
    "\n",
    "Condición utilizada para selección de valores propios : $\\lambda_i$ con $\\lambda_i > 1x10^{-2}$ "
   ]
  },
  {
   "cell_type": "code",
   "execution_count": 13,
   "metadata": {
    "collapsed": true
   },
   "outputs": [],
   "source": [
    "df_39 = pd.read_csv('../datasets/Autism-Adult-Data-39dim.csv')"
   ]
  },
  {
   "cell_type": "markdown",
   "metadata": {},
   "source": [
    "Chequeamos las dimensiones :"
   ]
  },
  {
   "cell_type": "code",
   "execution_count": 14,
   "metadata": {},
   "outputs": [
    {
     "name": "stdout",
     "output_type": "stream",
     "text": [
      "Filas del dataset original : 702\n",
      "Filas del dataset reducido : 702\n",
      "Columnas del dataset reducido : 39\n"
     ]
    }
   ],
   "source": [
    "print('Filas del dataset original : {}'.format(ds.pandas_df.shape[0]))\n",
    "print('Filas del dataset reducido : {}'.format(df_39.shape[0]))\n",
    "print('Columnas del dataset reducido : {}'.format(df_39.shape[1]))"
   ]
  },
  {
   "cell_type": "markdown",
   "metadata": {},
   "source": [
    "## Evaluación de los algoritmos\n",
    "\n",
    "Todas las evaluaciones que siguen fueron hechas mediante cross-validation con 10 folds (k=10). Se realizan las particiones sobre el dataset original (```df_numeric```) **completo**. En cada una de las 10 iteraciones se toman los índices de las instancias de test y training a partir del dataset original y se obtienen **las mismas instancias de test y training** pero de los siguientes datasets :\n",
    "\n",
    "- ```df_numeric```\n",
    "- ```df_96```\n",
    "- ```df_67``` \n",
    "- ```df_39```\n",
    "\n",
    "### Evaluación de K Nearest Neighbours"
   ]
  },
  {
   "cell_type": "code",
   "execution_count": 15,
   "metadata": {
    "collapsed": true
   },
   "outputs": [],
   "source": [
    "def eval_knn(datasets, y, metric_fn):\n",
    "\n",
    "    r = [[] for _ in range(len(datasets))]\n",
    "    clf = clf = KNNClassifier(3)\n",
    "    kf = KFold(n_splits=10, do_shuffle=False)\n",
    "    indexes = kf.split(datasets[0])\n",
    "    \n",
    "    for test_indexes, training_indexes in indexes:\n",
    "        \n",
    "        for (i, X) in enumerate(datasets):\n",
    "\n",
    "            y_test = y.iloc[test_indexes]\n",
    "            X_test = X.iloc[test_indexes]\n",
    "\n",
    "            y_train = y.iloc[training_indexes]\n",
    "            X_train = X.iloc[training_indexes]\n",
    "\n",
    "            clf.fit(X_train, y_train)\n",
    "            y_predicted = clf.predict(X_test)\n",
    "            r[i].append(metric_fn(y_test, y_predicted))\n",
    "        \n",
    "        print('[' + '>'*len(r[0]) + ' '*(10-len(r[0])) + ']', end='\\r')\n",
    "\n",
    "    return r"
   ]
  },
  {
   "cell_type": "markdown",
   "metadata": {},
   "source": [
    "#### Evaluación de accuracy"
   ]
  },
  {
   "cell_type": "code",
   "execution_count": 16,
   "metadata": {
    "scrolled": false
   },
   "outputs": [
    {
     "name": "stdout",
     "output_type": "stream",
     "text": [
      "[>>>>>>>>>>]\r"
     ]
    },
    {
     "data": {
      "image/png": "[encoded data removed]",
      "text/plain": [
       "<Figure size 720x720 with 1 Axes>"
      ]
     },
     "metadata": {},
     "output_type": "display_data"
    }
   ],
   "source": [
    "datasets = [df_numeric, df_96, df_67, df_39]\n",
    "r = eval_knn(datasets, y, accuracy_score)\n",
    "plt.figure(figsize=(10,10))\n",
    "plt.ylabel('accuracy')\n",
    "plt.axis([0, 9, 0, 1])\n",
    "plt.grid(True)\n",
    "plt.plot(r[0], color='r', label='103 dim dataset (original)')\n",
    "plt.plot(r[1], color='g', label='96 dim dataset')\n",
    "plt.plot(r[2], color='b', label='67 dim dataset')\n",
    "plt.plot(r[3], color='c', label='39 dim dataset')\n",
    "plt.legend(loc=0)\n",
    "plt.show()"
   ]
  },
  {
   "cell_type": "markdown",
   "metadata": {},
   "source": [
    "### Evaluación de Naive Bayes"
   ]
  },
  {
   "cell_type": "code",
   "execution_count": 17,
   "metadata": {
    "collapsed": true
   },
   "outputs": [],
   "source": [
    "def create_nb_classifier(target_attribute, X, y):\n",
    "    \n",
    "    attribute_info = {}\n",
    "    attribute_list = []\n",
    "    \n",
    "    for c in X.columns.values:\n",
    "        attribute_info[c] = DataSet.AttributeInfo(c, float)\n",
    "        attribute_list.append(c)\n",
    "    \n",
    "    return NBClassifier(target_attribute, attribute_info, attribute_list)\n",
    "\n",
    "\n",
    "def eval_nb(original_dataset, reduced_dataframes, y, metric_fn):\n",
    "\n",
    "    r = [[] for _ in range(len(reduced_dataframes) + 1)]\n",
    "    kf = KFold(n_splits=10, do_shuffle=False)\n",
    "    indexes = kf.split(original_dataset.pandas_df)\n",
    "    \n",
    "    for test_indexes, training_indexes in indexes:\n",
    "        \n",
    "        clf = NBClassifier(target_attribute, ds.attribute_info, ds.attribute_list)\n",
    "        \n",
    "        y_test = y.iloc[test_indexes]\n",
    "        X_test = ds.pandas_df.iloc[test_indexes]\n",
    "        \n",
    "        y_train = y.iloc[training_indexes]\n",
    "        X_train = ds.pandas_df.iloc[training_indexes]\n",
    "        \n",
    "        clf.fit(X_train, y_train)\n",
    "        y_predicted = clf.predict(X_test)\n",
    "        r[0].append(metric_fn(y_test, y_predicted))\n",
    "        \n",
    "        for (i, X) in enumerate(reduced_dataframes):\n",
    "            \n",
    "            clf = create_nb_classifier(target_attribute, X, y)\n",
    "\n",
    "            y_test = y.iloc[test_indexes]\n",
    "            X_test = X.iloc[test_indexes]\n",
    "\n",
    "            y_train = y.iloc[training_indexes]\n",
    "            X_train = X.iloc[training_indexes]\n",
    "\n",
    "            clf.fit(X_train, y_train)\n",
    "            y_predicted = clf.predict(X_test)\n",
    "            r[i+1].append(metric_fn(y_test, y_predicted))\n",
    "        \n",
    "        print('[' + '>'*len(r[0]) + ' '*(10-len(r[0])) + ']', end='\\r')\n",
    "\n",
    "    return r"
   ]
  },
  {
   "cell_type": "markdown",
   "metadata": {
    "collapsed": true
   },
   "source": [
    "#### Evaluación de accuracy"
   ]
  },
  {
   "cell_type": "code",
   "execution_count": 19,
   "metadata": {},
   "outputs": [
    {
     "name": "stdout",
     "output_type": "stream",
     "text": [
      "[>>>>>>>>>>]\r"
     ]
    },
    {
     "data": {
      "image/png": "[encoded data removed]",
      "text/plain": [
       "<Figure size 720x720 with 1 Axes>"
      ]
     },
     "metadata": {},
     "output_type": "display_data"
    }
   ],
   "source": [
    "reduced_dataframes = [df_96, df_67, df_39]\n",
    "original_dataset = ds\n",
    "r = eval_nb(original_dataset, reduced_dataframes, y, accuracy_score)\n",
    "plt.figure(figsize=(10,10))\n",
    "plt.ylabel('accuracy')\n",
    "plt.axis([0, 9, 0, 1])\n",
    "plt.grid(True)\n",
    "plt.plot(r[0], color='r', label='dataset original')\n",
    "plt.plot(r[1], color='g', label='96 dim dataset')\n",
    "plt.plot(r[1], color='b', label='67 dim dataset')\n",
    "plt.plot(r[3], color='c', label='39 dim dataset')\n",
    "plt.legend(loc=0)\n",
    "plt.show()"
   ]
  }
 ],
 "metadata": {
  "kernelspec": {
   "display_name": "Python 3",
   "language": "python",
   "name": "python3"
  },
  "language_info": {
   "codemirror_mode": {
    "name": "ipython",
    "version": 3
   },
   "file_extension": ".py",
   "mimetype": "text/x-python",
   "name": "python",
   "nbconvert_exporter": "python",
   "pygments_lexer": "ipython3",
   "version": "3.6.2"
  }
 },
 "nbformat": 4,
 "nbformat_minor": 2
}
