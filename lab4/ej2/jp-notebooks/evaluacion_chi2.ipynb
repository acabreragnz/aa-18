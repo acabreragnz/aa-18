{
 "cells": [
  {
   "cell_type": "markdown",
   "metadata": {},
   "source": [
    "# Evaluación de los algoritmos antes y después de aplicar $\\chi^2$\n",
    "\n",
    "## Imports y configuraciones"
   ]
  },
  {
   "cell_type": "code",
   "execution_count": 1,
   "metadata": {
    "collapsed": true
   },
   "outputs": [],
   "source": [
    "import sys\n",
    "import pandas as pd\n",
    "import numpy as np\n",
    "import matplotlib.pyplot as plt"
   ]
  },
  {
   "cell_type": "code",
   "execution_count": 2,
   "metadata": {},
   "outputs": [],
   "source": [
    "from sklearn.metrics import accuracy_score\n",
    "from sklearn.feature_selection import chi2, SelectKBest\n",
    "from sklearn.preprocessing import LabelEncoder"
   ]
  },
  {
   "cell_type": "code",
   "execution_count": 3,
   "metadata": {
    "collapsed": true
   },
   "outputs": [],
   "source": [
    "sys.path.append('../../../lab3/ej7/src') # permite importar modulos de otros directorios"
   ]
  },
  {
   "cell_type": "code",
   "execution_count": 4,
   "metadata": {
    "collapsed": true
   },
   "outputs": [],
   "source": [
    "from ds_preprocessing import DataSetPreprocessor\n",
    "from arff_helper import DataSet\n",
    "from classifier import KNNClassifier, NBClassifier\n",
    "from kfold import KFold"
   ]
  },
  {
   "cell_type": "markdown",
   "metadata": {},
   "source": [
    "## Carga y preprocesamiento de datasets\n",
    "\n",
    "### Carga y preprocesamiento del dataset original (```ds```) "
   ]
  },
  {
   "cell_type": "code",
   "execution_count": 5,
   "metadata": {
    "collapsed": true
   },
   "outputs": [],
   "source": [
    "ds = DataSet()\n",
    "ds.load_from_arff('../../../lab2/ej5/datasets/Autism-Adult-Data.arff')\n",
    "ds.remove_attribute('result')"
   ]
  },
  {
   "cell_type": "markdown",
   "metadata": {},
   "source": [
    "Sacamos filas sin valor en el atributo ```age``` para que no falle el método ```chi2``` (si hay otros atributos faltantes serán transformados en varios atributos todos con valor ```0``` al invocar ```transform_to_rn```):"
   ]
  },
  {
   "cell_type": "code",
   "execution_count": 6,
   "metadata": {
    "scrolled": false
   },
   "outputs": [],
   "source": [
    "indices = ds.pandas_df[ds.pandas_df['age'].isnull()].index\n",
    "ds.pandas_df = ds.pandas_df.drop(indices)\\\n",
    "    .reset_index()\\\n",
    "    .drop(columns=['index'])"
   ]
  },
  {
   "cell_type": "markdown",
   "metadata": {},
   "source": [
    "### Transformación a atributos numéricos (```df_numeric```)"
   ]
  },
  {
   "cell_type": "markdown",
   "metadata": {},
   "source": [
    "Sacamos el atributo ```age``` para que no sea transformado (normalizado) ya que el método ```chi2``` no permite valores negativos:"
   ]
  },
  {
   "cell_type": "code",
   "execution_count": 7,
   "metadata": {
    "collapsed": true
   },
   "outputs": [],
   "source": [
    "age = ds.pandas_df['age']\n",
    "ds.remove_attribute('age')"
   ]
  },
  {
   "cell_type": "markdown",
   "metadata": {},
   "source": [
    "Convertimos los demás atributos a numéricos :"
   ]
  },
  {
   "cell_type": "code",
   "execution_count": 8,
   "metadata": {},
   "outputs": [],
   "source": [
    "target_attribute = 'Class/ASD'\n",
    "preprocessor = DataSetPreprocessor(ds, target_attribute)\n",
    "df_numeric = preprocessor.transform_to_rn()\\\n",
    "    .drop(columns=target_attribute)"
   ]
  },
  {
   "cell_type": "markdown",
   "metadata": {},
   "source": [
    "Volvemos a agregar el atributo ```age```:"
   ]
  },
  {
   "cell_type": "code",
   "execution_count": 9,
   "metadata": {
    "collapsed": true
   },
   "outputs": [],
   "source": [
    "df_numeric['age'] = age"
   ]
  },
  {
   "cell_type": "markdown",
   "metadata": {},
   "source": [
    "Separamos la columna con el atributo objetivo y la guardamos en ```y```:"
   ]
  },
  {
   "cell_type": "code",
   "execution_count": 10,
   "metadata": {
    "collapsed": true
   },
   "outputs": [],
   "source": [
    "y = ds.pandas_df[target_attribute]"
   ]
  },
  {
   "cell_type": "markdown",
   "metadata": {},
   "source": [
    "### Reducción de dimensionalidad \n",
    "\n",
    "#### Análisis de dependencia de atributos (con  $\\chi^2$)"
   ]
  },
  {
   "cell_type": "markdown",
   "metadata": {},
   "source": [
    "Imprimimos los estadísticos del test [[1]](#referencia-1):"
   ]
  },
  {
   "cell_type": "code",
   "execution_count": 11,
   "metadata": {},
   "outputs": [
    {
     "name": "stdout",
     "output_type": "stream",
     "text": [
      "[0.00000000e+00 7.51879699e-03 2.30576441e-02 6.26566416e-02\n",
      " 6.26566416e-02 6.26566416e-02 6.26566416e-02 6.26566416e-02\n",
      " 1.21804511e-01 1.21804511e-01 1.44360902e-01 2.17142857e-01\n",
      " 3.20802005e-01 3.68421053e-01 3.68421053e-01 3.68421053e-01\n",
      " 3.68421053e-01 3.68421053e-01 3.68421053e-01 3.68421053e-01\n",
      " 3.68421053e-01 3.68421053e-01 3.68421053e-01 3.68421053e-01\n",
      " 3.68421053e-01 3.68421053e-01 3.68421053e-01 3.68421053e-01\n",
      " 3.68421053e-01 3.68421053e-01 3.68421053e-01 3.68421053e-01\n",
      " 3.68421053e-01 3.68421053e-01 3.68421053e-01 3.87755102e-01\n",
      " 4.34586466e-01 5.41353383e-01 5.41353383e-01 5.41353383e-01\n",
      " 7.12979130e-01 7.36842105e-01 7.36842105e-01 7.36842105e-01\n",
      " 7.36842105e-01 8.69172932e-01 8.79699248e-01 8.79699248e-01\n",
      " 9.03329753e-01 1.08270677e+00 1.10526316e+00 1.10526316e+00\n",
      " 1.32581454e+00 1.47368421e+00 1.92002734e+00 2.10776942e+00\n",
      " 2.16541353e+00 2.18324500e+00 2.37817759e+00 2.40852130e+00\n",
      " 2.57894737e+00 2.63855040e+00 2.71428571e+00 2.71428571e+00\n",
      " 2.71428571e+00 2.71428571e+00 2.71428571e+00 2.71428571e+00\n",
      " 2.84706447e+00 2.90810359e+00 3.75020886e+00 4.21303258e+00\n",
      " 4.51371936e+00 4.69924812e+00 4.87655184e+00 5.15789474e+00\n",
      " 5.41353383e+00 5.42857143e+00 5.42857143e+00 6.32330827e+00\n",
      " 6.54080854e+00 7.15939850e+00 7.15939850e+00 1.19156587e+01\n",
      " 1.20426065e+01 1.21049575e+01 1.35943963e+01 1.55357960e+01\n",
      " 1.56800334e+01 1.70088213e+01 1.91160043e+01 2.25422665e+01\n",
      " 2.25578581e+01 2.29269412e+01 3.74181681e+01 4.46502547e+01\n",
      " 4.67007325e+01 5.08006107e+01 7.36509597e+01 7.76913846e+01\n",
      " 1.01905134e+02 1.75723459e+02 1.91216990e+02]\n"
     ]
    }
   ],
   "source": [
    "le = LabelEncoder()\n",
    "le.fit(y)\n",
    "y_aux = le.transform(y) \n",
    "(statistics, _) = chi2(df_numeric, y_aux)\n",
    "print(np.sort(statistics))"
   ]
  },
  {
   "cell_type": "markdown",
   "metadata": {},
   "source": [
    "Observando los valores de los estadísticos ordenados de menor a mayor, seleccionamos cuantos atributos quitar y generamos diferentes DataFrame's [[2]](#referencia-2): \n",
    "\n",
    "#### Dataset reducido a 101 dimensiones (df_101)\n",
    "\n",
    "Todos los atributos cuyo estadístico de mayor a $1x10^{-2}$"
   ]
  },
  {
   "cell_type": "code",
   "execution_count": 12,
   "metadata": {},
   "outputs": [
    {
     "data": {
      "text/plain": [
       "(702, 101)"
      ]
     },
     "execution_count": 12,
     "metadata": {},
     "output_type": "execute_result"
    }
   ],
   "source": [
    "X_101 = SelectKBest(chi2, k=101).fit_transform(df_numeric, y_aux)\n",
    "df_101 = pd.DataFrame(X_101, columns=[x.__str__() for x in range(101)])\n",
    "df_101.shape"
   ]
  },
  {
   "cell_type": "markdown",
   "metadata": {},
   "source": [
    "El keyword argument ```columns``` de ```pd.DataFrame``` se setea para evitar el warning al [evaluar accuracy en KNN](#knn-evaluacion-accuracy): \n",
    "\n",
    "../../../lab3/ej7/src/k_nearest_neighbor.py:31: FutureWarning: elementwise comparison failed; returning scalar instead, but in the future will perform elementwise comparison\n",
    "  if target_attribute in replicated_instance.columns.values:"
   ]
  },
  {
   "cell_type": "markdown",
   "metadata": {},
   "source": [
    "#### DataFrame reducido a 95 dimensiones (df_95)\n",
    "\n",
    "Todos los atributos cuyo estadístico de mayor a $1x10^{-1}$"
   ]
  },
  {
   "cell_type": "code",
   "execution_count": 13,
   "metadata": {},
   "outputs": [
    {
     "data": {
      "text/plain": [
       "(702, 95)"
      ]
     },
     "execution_count": 13,
     "metadata": {},
     "output_type": "execute_result"
    }
   ],
   "source": [
    "X_95 = SelectKBest(chi2, k=95).fit_transform(df_numeric, y_aux)\n",
    "df_95 = pd.DataFrame(X_95, columns=[x.__str__() for x in range(95)])\n",
    "df_95.shape"
   ]
  },
  {
   "cell_type": "markdown",
   "metadata": {},
   "source": [
    "Observando los valores de los estadísticos ordenados de menor a mayor, seleccionamos cuantos atributos quitar y generamos diferentes DataFrame's [[2]](#referencia-2):"
   ]
  },
  {
   "cell_type": "markdown",
   "metadata": {},
   "source": [
    "#### Dataset reducido a 54 dimensiones (df_54)\n",
    "\n",
    "Todos los atributos cuyo estadístico de mayor a 1"
   ]
  },
  {
   "cell_type": "code",
   "execution_count": 14,
   "metadata": {},
   "outputs": [
    {
     "data": {
      "text/plain": [
       "(702, 54)"
      ]
     },
     "execution_count": 14,
     "metadata": {},
     "output_type": "execute_result"
    }
   ],
   "source": [
    "X_54 = SelectKBest(chi2, k=54).fit_transform(df_numeric, y_aux)\n",
    "df_54 = pd.DataFrame(X_54, columns=[x.__str__() for x in range(54)])\n",
    "df_54.shape"
   ]
  },
  {
   "cell_type": "markdown",
   "metadata": {},
   "source": [
    "## Evaluación de los algoritmos\n",
    "\n",
    "Todas las evaluaciones que siguen fueron hechas mediante cross-validation con 10 folds (k=10). Se realizan las particiones sobre el dataset original (```df_numeric```) **completo**. En cada una de las 10 iteraciones se toman los índices de las instancias de test y training a partir del dataset original y se obtienen **las mismas instancias de test y training** pero de los siguientes datasets :\n",
    "\n",
    "- ```df_numeric```\n",
    "- ```df_101```\n",
    "- ```df_95``` \n",
    "- ```df_54```\n",
    "\n",
    "### Evaluación de K Nearest Neighbours"
   ]
  },
  {
   "cell_type": "code",
   "execution_count": 15,
   "metadata": {
    "collapsed": true
   },
   "outputs": [],
   "source": [
    "def eval_knn(dataframes, y, metric_fn):\n",
    "\n",
    "    r = [[] for _ in range(len(dataframes))]\n",
    "    clf = clf = KNNClassifier(3)\n",
    "    kf = KFold(n_splits=10, do_shuffle=False)\n",
    "    indexes = kf.split(dataframes[0])\n",
    "    \n",
    "    for test_indexes, training_indexes in indexes:\n",
    "        \n",
    "        for (i, X) in enumerate(dataframes):\n",
    "\n",
    "            y_test = y.iloc[test_indexes]\n",
    "            X_test = X.iloc[test_indexes]\n",
    "\n",
    "            y_train = y.iloc[training_indexes]\n",
    "            X_train = X.iloc[training_indexes]\n",
    "\n",
    "            clf.fit(X_train, y_train)\n",
    "            y_predicted = clf.predict(X_test)\n",
    "            r[i].append(metric_fn(y_test, y_predicted))\n",
    "        \n",
    "        print('[' + '>'*len(r[0]) + ' '*(10-len(r[0])) + ']', end='\\r')\n",
    "\n",
    "    return r"
   ]
  },
  {
   "cell_type": "markdown",
   "metadata": {},
   "source": [
    "#### Evaluación de accuracy <a id='knn-evaluacion-accuracy'></a>"
   ]
  },
  {
   "cell_type": "code",
   "execution_count": 16,
   "metadata": {
    "scrolled": false
   },
   "outputs": [
    {
     "name": "stdout",
     "output_type": "stream",
     "text": [
      "[>>>>>>>>>>]\r"
     ]
    },
    {
     "data": {
      "image/png": "[encoded data removed]",
      "text/plain": [
       "<Figure size 720x720 with 1 Axes>"
      ]
     },
     "metadata": {},
     "output_type": "display_data"
    }
   ],
   "source": [
    "dataframes = [df_numeric, df_101, df_95, df_54]\n",
    "r = eval_knn(dataframes, y, accuracy_score)\n",
    "plt.figure(figsize=(10,10))\n",
    "plt.ylabel('accuracy')\n",
    "plt.axis([0, 9, 0, 1])\n",
    "plt.grid(True)\n",
    "plt.plot(r[0], color='r', label='103 dim dataset (original)')\n",
    "plt.plot(r[1], color='g', label='101 dim dataset')\n",
    "plt.plot(r[2], color='b', label='95 dim dataset')\n",
    "plt.plot(r[3], color='c', label='54 dim dataset')\n",
    "plt.legend(loc=0)\n",
    "plt.show()"
   ]
  },
  {
   "cell_type": "markdown",
   "metadata": {},
   "source": [
    "### Evaluación de Naive Bayes"
   ]
  },
  {
   "cell_type": "code",
   "execution_count": 17,
   "metadata": {
    "collapsed": true
   },
   "outputs": [],
   "source": [
    "def create_nb_classifier(target_attribute, X, y):\n",
    "    \n",
    "    attribute_info = {}\n",
    "    attribute_list = []\n",
    "    \n",
    "    for c in X.columns.values:\n",
    "        attribute_info[c] = DataSet.AttributeInfo(c, float)\n",
    "        attribute_list.append(c)\n",
    "    \n",
    "    return NBClassifier(target_attribute, attribute_info, attribute_list)\n",
    "\n",
    "\n",
    "def eval_nb(original_dataset, reduced_dataframes, y, metric_fn):\n",
    "\n",
    "    r = [[] for _ in range(len(reduced_dataframes) + 1)]\n",
    "    kf = KFold(n_splits=10, do_shuffle=False)\n",
    "    indexes = kf.split(original_dataset.pandas_df)\n",
    "    \n",
    "    for test_indexes, training_indexes in indexes:\n",
    "        \n",
    "        clf = NBClassifier(target_attribute, ds.attribute_info, ds.attribute_list)\n",
    "        \n",
    "        y_test = y.iloc[test_indexes]\n",
    "        X_test = ds.pandas_df.iloc[test_indexes]\n",
    "        \n",
    "        y_train = y.iloc[training_indexes]\n",
    "        X_train = ds.pandas_df.iloc[training_indexes]\n",
    "        \n",
    "        clf.fit(X_train, y_train)\n",
    "        y_predicted = clf.predict(X_test)\n",
    "        r[0].append(metric_fn(y_test, y_predicted))\n",
    "        \n",
    "        for (i, X) in enumerate(reduced_dataframes):\n",
    "            \n",
    "            clf = create_nb_classifier(target_attribute, X, y)\n",
    "\n",
    "            y_test = y.iloc[test_indexes]\n",
    "            X_test = X.iloc[test_indexes]\n",
    "\n",
    "            y_train = y.iloc[training_indexes]\n",
    "            X_train = X.iloc[training_indexes]\n",
    "\n",
    "            clf.fit(X_train, y_train)\n",
    "            y_predicted = clf.predict(X_test)\n",
    "            r[i+1].append(metric_fn(y_test, y_predicted))\n",
    "        \n",
    "        print('[' + '>'*len(r[0]) + ' '*(10-len(r[0])) + ']', end='\\r')\n",
    "\n",
    "    return r"
   ]
  },
  {
   "cell_type": "markdown",
   "metadata": {},
   "source": [
    "#### Evaluación de accuracy"
   ]
  },
  {
   "cell_type": "code",
   "execution_count": 18,
   "metadata": {},
   "outputs": [
    {
     "name": "stderr",
     "output_type": "stream",
     "text": [
      "/usr/local/anaconda3/envs/py36/lib/python3.6/site-packages/scipy/stats/_distn_infrastructure.py:1652: RuntimeWarning: invalid value encountered in double_scalars\n",
      "  x = np.asarray((x - loc)/scale, dtype=dtyp)\n",
      "/usr/local/anaconda3/envs/py36/lib/python3.6/site-packages/scipy/stats/_distn_infrastructure.py:1652: RuntimeWarning: divide by zero encountered in double_scalars\n",
      "  x = np.asarray((x - loc)/scale, dtype=dtyp)\n"
     ]
    },
    {
     "name": "stdout",
     "output_type": "stream",
     "text": [
      "[>>>>>>>>>>]\r"
     ]
    },
    {
     "data": {
      "image/png": "[encoded data removed]",
      "text/plain": [
       "<Figure size 720x720 with 1 Axes>"
      ]
     },
     "metadata": {},
     "output_type": "display_data"
    }
   ],
   "source": [
    "reduced_dataframes = [df_101, df_95, df_54]\n",
    "original_dataset = ds\n",
    "r = eval_nb(original_dataset, reduced_dataframes, y, accuracy_score)\n",
    "plt.figure(figsize=(10,10))\n",
    "plt.ylabel('accuracy')\n",
    "plt.axis([0, 9, 0, 1])\n",
    "plt.grid(True)\n",
    "plt.plot(r[0], color='r', label='dataset original')\n",
    "plt.plot(r[1], color='g', label='101 dim dataset')\n",
    "plt.plot(r[1], color='b', label='95 dim dataset')\n",
    "plt.plot(r[3], color='c', label='54 dim dataset')\n",
    "plt.legend(loc=0)\n",
    "plt.show()"
   ]
  },
  {
   "cell_type": "markdown",
   "metadata": {},
   "source": [
    "## Referencias\n",
    "\n",
    "[1] - <a id='referencia-1'></a> Scikit Learn, v0.19.0, chi2, [http://scikit-learn.org/stable/modules/generated/sklearn.feature_selection.chi2.html#sklearn.feature_selection.chi2]\n",
    "\n",
    "[2] - <a id='referencia-2'></a> Scikit Learn, v0.19.1, Univariate feature selection, [http://scikit-learn.org/stable/modules/feature_selection.html#univariate-feature-selection]\n"
   ]
  }
 ],
 "metadata": {
  "kernelspec": {
   "display_name": "Python 3",
   "language": "python",
   "name": "python3"
  },
  "language_info": {
   "codemirror_mode": {
    "name": "ipython",
    "version": 3
   },
   "file_extension": ".py",
   "mimetype": "text/x-python",
   "name": "python",
   "nbconvert_exporter": "python",
   "pygments_lexer": "ipython3",
   "version": "3.6.2"
  }
 },
 "nbformat": 4,
 "nbformat_minor": 2
}
