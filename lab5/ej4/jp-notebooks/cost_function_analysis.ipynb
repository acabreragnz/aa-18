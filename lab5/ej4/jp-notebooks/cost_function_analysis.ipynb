{
 "cells": [
  {
   "cell_type": "markdown",
   "metadata": {},
   "source": [
    "# Análisis de la función de costo\n",
    "\n",
    "## Imports y configuraciones"
   ]
  },
  {
   "cell_type": "code",
   "execution_count": 1,
   "metadata": {
    "collapsed": true
   },
   "outputs": [],
   "source": [
    "import sys\n",
    "import numpy as np\n",
    "import matplotlib.pyplot as plt"
   ]
  },
  {
   "cell_type": "code",
   "execution_count": 2,
   "metadata": {
    "collapsed": true
   },
   "outputs": [],
   "source": [
    "from sklearn.preprocessing import LabelEncoder"
   ]
  },
  {
   "cell_type": "code",
   "execution_count": 3,
   "metadata": {
    "collapsed": true
   },
   "outputs": [],
   "source": [
    "sys.path.append('../src') # permite importar modulos de otros directorios\n",
    "sys.path.append('../../../lab3/ej7/src')"
   ]
  },
  {
   "cell_type": "code",
   "execution_count": 4,
   "metadata": {
    "collapsed": true
   },
   "outputs": [],
   "source": [
    "from ds_preprocessing import DataSetPreprocessor\n",
    "from arff_helper import DataSet\n",
    "from log_regression import cost_function, target_function"
   ]
  },
  {
   "cell_type": "markdown",
   "metadata": {},
   "source": [
    "## Carga y preprocesamiento del dataset\n",
    "\n",
    "Para todas las pruebas utilizaremos el dataset de entrenamiento de la tercer entrega el cual contiene un 80% \n",
    "de las instancias del dataset completo tomadas al azar.\n",
    "\n",
    "### Carga del dataset "
   ]
  },
  {
   "cell_type": "code",
   "execution_count": 5,
   "metadata": {
    "collapsed": true
   },
   "outputs": [],
   "source": [
    "ds = DataSet()\n",
    "ds.load_from_arff('../../../lab3/ej7/datasets/Autism-Adult-Training-Subset.arff')"
   ]
  },
  {
   "cell_type": "markdown",
   "metadata": {},
   "source": [
    "Eliminamos la fila 305, para la cual el atributo ```age``` no esta definido. De esta forma evitamos que al hacer operaciones con matrices aparezcan valores ```nan```. Se puede ver que al calcular el gradiente (ver [código](#analisis-funcion-costo)):\n",
    "\n",
    "```gradient = (1/m)*(X.transpose() @ (target_function(X, theta)-y)))```\n",
    "\n",
    "si se mantiene una entrada de la matriz ```X``` en ```nan```, todas las entradas del resultado de multiplicar ```X.transpose()``` por ```target_function(X, theta)-y``` estarán en ```nan```."
   ]
  },
  {
   "cell_type": "code",
   "execution_count": 6,
   "metadata": {},
   "outputs": [],
   "source": [
    "ds.pandas_df = ds.pandas_df.drop([305])\\\n",
    "    .reset_index()\\\n",
    "    .drop(columns=['index'])"
   ]
  },
  {
   "cell_type": "markdown",
   "metadata": {},
   "source": [
    "Separamos la columna con el atributo objetivo y la guardamos en ```y```:"
   ]
  },
  {
   "cell_type": "code",
   "execution_count": 7,
   "metadata": {
    "collapsed": true
   },
   "outputs": [],
   "source": [
    "target_attribute = 'Class/ASD'\n",
    "y = ds.pandas_df[target_attribute]"
   ]
  },
  {
   "cell_type": "markdown",
   "metadata": {},
   "source": [
    "### Transformación a atributos numéricos "
   ]
  },
  {
   "cell_type": "code",
   "execution_count": 8,
   "metadata": {
    "collapsed": true
   },
   "outputs": [],
   "source": [
    "preprocessor = DataSetPreprocessor(ds, target_attribute)\n",
    "X = preprocessor.transform_to_rn()\\\n",
    "    .drop(columns=target_attribute)\\\n",
    "    .as_matrix()"
   ]
  },
  {
   "cell_type": "markdown",
   "metadata": {},
   "source": [
    "Transformamos el vector ```y``` en binario (enteros 1 o 0):"
   ]
  },
  {
   "cell_type": "code",
   "execution_count": 9,
   "metadata": {
    "collapsed": true
   },
   "outputs": [],
   "source": [
    "le = LabelEncoder()\n",
    "y = le.fit_transform(y)"
   ]
  },
  {
   "cell_type": "markdown",
   "metadata": {},
   "source": [
    "**Esto es importante ya que entre otras cosas, para el cálculo del costo se realizan operaciones con este vector.**"
   ]
  },
  {
   "cell_type": "markdown",
   "metadata": {},
   "source": [
    "## Análisis de la función de costo\n",
    "A continuación hacemos **1 sola iteración** del descenso por gradiente y finalmente mostramos el valor de la función de costo $J(\\theta)$ para el vector $\\theta$ calculado. \n",
    "\n",
    "La función de costo elegida es : \n",
    "\n",
    "$J(\\theta)=-\\frac{1}{m}\\sum_{i=1}^{m}{[y^{(i)}log(h_\\theta(x^{(i)})) + (1-y^{(i)})log(1-h_\\theta(x^{(i)}))]}$\n",
    "\n",
    "y el valor inicial para $\\theta$ es 0 ($\\theta_j = 0$ para todo j ).\n",
    "\n",
    "<a id='analisis-funcion-costo'></a>"
   ]
  },
  {
   "cell_type": "code",
   "execution_count": 10,
   "metadata": {},
   "outputs": [
    {
     "name": "stdout",
     "output_type": "stream",
     "text": [
      "J(theta) = 0.6650958892540617\n"
     ]
    }
   ],
   "source": [
    "m = X.shape[0]\n",
    "alpha = 0.1\n",
    "theta = np.zeros(X.shape[1])\n",
    "gradient = (1/m)*(X.transpose() @ (target_function(X, theta)-y))\n",
    "theta = theta - alpha*gradient\n",
    "print('J(theta) = {}'.format(cost_function(X, y, theta)))"
   ]
  },
  {
   "cell_type": "markdown",
   "metadata": {},
   "source": [
    "En la siguiente función implementamos el descenso por gradiente en modo batch con una cantidad determinada de iteraciones [[1]](#referencia-1). De forma resumida es lo siguiente :\n",
    "\n",
    "Repetir n veces:\n",
    "\n",
    "1. Calcular el gradiente con las m instancias en X y simultáneamente para las j componentes de $\\theta$:\n",
    "\n",
    "$\\frac{\\delta}{\\delta\\theta_j}J(\\theta) = \\frac{1}{m}\\sum_{i=1}^{m}(h_\\theta(x^{(i)})-y^{(i)})x_j^{(i)}$ \n",
    "\n",
    "$\\frac{\\delta}{\\delta\\theta}J(\\theta) = \\frac{1}{m}X^T(h_\\theta(X)-y)$ (vectorialmente)\n",
    "\n",
    "2. Con el gradiente calculado en el paso anterior ajustar simultáneamente las j componentes de $\\theta$:\n",
    "\n",
    "$\\theta := \\theta - \\alpha\\frac{\\delta}{\\delta\\theta}J(\\theta)$ (vectorialmente)"
   ]
  },
  {
   "cell_type": "code",
   "execution_count": 11,
   "metadata": {
    "collapsed": true
   },
   "outputs": [],
   "source": [
    "def gradient_descent(X, y, alpha, max_iterations):\n",
    "    cost_array = []\n",
    "    theta = np.zeros(X.shape[1])\n",
    "    for _ in range(max_iterations):\n",
    "        gradient = (1/m)*(X.transpose() @ (target_function(X, theta)-y))\n",
    "        theta = theta - alpha*gradient\n",
    "        cost_array.append(cost_function(X, y, theta))\n",
    "    return cost_array"
   ]
  },
  {
   "cell_type": "markdown",
   "metadata": {},
   "source": [
    "Aplicamos el descenso y graficamos el costo en cada iteración :"
   ]
  },
  {
   "cell_type": "code",
   "execution_count": 23,
   "metadata": {},
   "outputs": [
    {
     "data": {
      "image/png": "[encoded data removed]",
      "text/plain": [
       "<Figure size 720x720 with 1 Axes>"
      ]
     },
     "metadata": {},
     "output_type": "display_data"
    }
   ],
   "source": [
    "cost_array = gradient_descent(X, y, 1, 2000)\n",
    "plt.figure(figsize=(10,10))\n",
    "plt.ylabel('J(theta)')\n",
    "plt.axis([0, len(cost_array)-1, 0, 1])\n",
    "plt.grid(True)\n",
    "plt.plot(cost_array, color='b', label='{} iterations'.format(len(cost_array)))\n",
    "plt.legend(loc=0)\n",
    "plt.show()"
   ]
  },
  {
   "cell_type": "markdown",
   "metadata": {},
   "source": [
    "## Referencias\n",
    "\n",
    "[1] - <a id='referencia-1'></a> Regresión Logística, Nota del curso de Aprendizaje Automático, 2018, Guillermo Moncecchi"
   ]
  }
 ],
 "metadata": {
  "kernelspec": {
   "display_name": "Python 3",
   "language": "python",
   "name": "python3"
  },
  "language_info": {
   "codemirror_mode": {
    "name": "ipython",
    "version": 3
   },
   "file_extension": ".py",
   "mimetype": "text/x-python",
   "name": "python",
   "nbconvert_exporter": "python",
   "pygments_lexer": "ipython3",
   "version": "3.6.2"
  }
 },
 "nbformat": 4,
 "nbformat_minor": 2
}
