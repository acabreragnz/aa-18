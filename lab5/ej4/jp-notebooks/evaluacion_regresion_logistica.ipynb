{
 "cells": [
  {
   "cell_type": "markdown",
   "metadata": {},
   "source": [
    "# Evaluación de la clasificación con regresión logística\n",
    "\n",
    "## Imports y configuraciones"
   ]
  },
  {
   "cell_type": "code",
   "execution_count": 2,
   "metadata": {
    "collapsed": true
   },
   "outputs": [],
   "source": [
    "import sys"
   ]
  },
  {
   "cell_type": "code",
   "execution_count": 3,
   "metadata": {
    "collapsed": true
   },
   "outputs": [],
   "source": [
    "import matplotlib.pyplot as plt\n",
    "import numpy as np"
   ]
  },
  {
   "cell_type": "code",
   "execution_count": 4,
   "metadata": {
    "collapsed": true
   },
   "outputs": [],
   "source": [
    "from sklearn.preprocessing import LabelEncoder\n",
    "from sklearn.metrics import accuracy_score"
   ]
  },
  {
   "cell_type": "code",
   "execution_count": 5,
   "metadata": {
    "collapsed": true
   },
   "outputs": [],
   "source": [
    "sys.path.append('../src') # permite importar modulos de otros directorios\n",
    "sys.path.append('../../../')\n",
    "sys.path.append('../../../lab3/ej7/src/')"
   ]
  },
  {
   "cell_type": "code",
   "execution_count": 6,
   "metadata": {
    "collapsed": true
   },
   "outputs": [],
   "source": [
    "from lab3.ej7.src.arff_helper import DataSet\n",
    "from lab3.ej7.src.ds_preprocessing import DataSetPreprocessor\n",
    "from lab3.ej7.src.classifier import NBClassifier, KNNClassifier\n",
    "from lab3.ej7.src.kfold import KFold\n",
    "from classifier import LRClassifier"
   ]
  },
  {
   "cell_type": "markdown",
   "metadata": {},
   "source": [
    "## Carga y preprocesamiento de los datasets\n",
    "### Carga y preprocesamiento del dataset de entrenamiento\n",
    "Utilizaremos el dataset de entrenamiento de la tercer entrega el cual contiene un 80% de las instancias del dataset completo tomadas al azar."
   ]
  },
  {
   "cell_type": "code",
   "execution_count": 7,
   "metadata": {
    "collapsed": true
   },
   "outputs": [],
   "source": [
    "ds = DataSet()\n",
    "ds.load_from_arff('../../../lab3/ej7/datasets/Autism-Adult-Training-Subset.arff')"
   ]
  },
  {
   "cell_type": "markdown",
   "metadata": {},
   "source": [
    "Eliminamos la fila 305 (ver notebook cost_function_analysis.ipynb):"
   ]
  },
  {
   "cell_type": "code",
   "execution_count": 8,
   "metadata": {
    "collapsed": true
   },
   "outputs": [],
   "source": [
    "ds.pandas_df = ds.pandas_df.drop([305])\\\n",
    "    .reset_index()\\\n",
    "    .drop(columns=['index'])"
   ]
  },
  {
   "cell_type": "markdown",
   "metadata": {},
   "source": [
    "Separamos la columna con el atributo objetivo y la guardamos en ```y```:"
   ]
  },
  {
   "cell_type": "code",
   "execution_count": 9,
   "metadata": {
    "collapsed": true
   },
   "outputs": [],
   "source": [
    "target_attribute = 'Class/ASD'\n",
    "y = ds.pandas_df[target_attribute]"
   ]
  },
  {
   "cell_type": "markdown",
   "metadata": {},
   "source": [
    "#### Transformación a atributos numéricos "
   ]
  },
  {
   "cell_type": "code",
   "execution_count": 10,
   "metadata": {
    "collapsed": true
   },
   "outputs": [],
   "source": [
    "preprocessor = DataSetPreprocessor(ds, target_attribute)\n",
    "df_numeric = preprocessor.transform_to_rn()\\\n",
    "    .drop(columns=target_attribute)\n",
    "ds.pandas_df = ds.pandas_df.drop(columns=target_attribute)"
   ]
  },
  {
   "cell_type": "markdown",
   "metadata": {},
   "source": [
    "### Carga y preprocesamiento del dataset de test\n",
    "Utilizaremos el dataset de test de la tercer entrega el cual contiene el resto de las instancias o sea el 20% que no está en el dataset de entrenamiento."
   ]
  },
  {
   "cell_type": "code",
   "execution_count": 11,
   "metadata": {},
   "outputs": [],
   "source": [
    "ds_t = DataSet()\n",
    "ds_t.load_from_arff('../../../lab3/ej7/datasets/Autism-Adult-Test-Subset.arff')"
   ]
  },
  {
   "cell_type": "markdown",
   "metadata": {},
   "source": [
    "Separamos la columna con el atributo objetivo y la guardamos en ```y_t```:"
   ]
  },
  {
   "cell_type": "code",
   "execution_count": 12,
   "metadata": {
    "collapsed": true
   },
   "outputs": [],
   "source": [
    "y_t = ds_t.pandas_df[target_attribute]"
   ]
  },
  {
   "cell_type": "markdown",
   "metadata": {},
   "source": [
    "#### Transformación a atributos numéricos "
   ]
  },
  {
   "cell_type": "code",
   "execution_count": 13,
   "metadata": {
    "collapsed": true
   },
   "outputs": [],
   "source": [
    "preprocessor = DataSetPreprocessor(ds_t, target_attribute)\n",
    "df_t_numeric = preprocessor.transform_to_rn()\\\n",
    "    .drop(columns=target_attribute)\n",
    "ds_t.pandas_df = ds_t.pandas_df.drop(columns=target_attribute)"
   ]
  },
  {
   "cell_type": "markdown",
   "metadata": {},
   "source": [
    "## Evaluación de la clasificación\n",
    "\n",
    "La evaluaciones la haremos mediante cross-validation con 10 folds (k=10). Se realizan las particiones sobre el dataset de entrenamiento. En cada una de las 10 iteraciones se toman los índices de las instancias de test y training a partir de ese dataset y se obtienen las instancias correspondientes en el dataset con atributos numéricos."
   ]
  },
  {
   "cell_type": "code",
   "execution_count": 15,
   "metadata": {
    "collapsed": true
   },
   "outputs": [],
   "source": [
    "def eval_algorithms(X_numeric, X_original, y, tolerances, metric_fn):\n",
    "    \n",
    "    # X_numeric: DataFrame\n",
    "    # X_original: DataSet\n",
    "    \n",
    "    r = [[] for _ in range(len(tolerances) + 2)]\n",
    "    kf = KFold(n_splits=10, do_shuffle=False)\n",
    "    indexes = kf.split(X_original.pandas_df)\n",
    "    le = LabelEncoder()\n",
    "    \n",
    "    for test_indexes, training_indexes in indexes:\n",
    "        \n",
    "        # Evaluacion del clasificador con Naive Bayes\n",
    "        \n",
    "        y_test = y.iloc[test_indexes]\n",
    "        X_test = X_original.pandas_df.iloc[test_indexes]     \n",
    "        y_train = y.iloc[training_indexes]\n",
    "        X_train = X_original.pandas_df.iloc[training_indexes]\n",
    "        \n",
    "        clf = NBClassifier(target_attribute, X_original.attribute_info, X_original.attribute_list)\n",
    "        clf.fit(X_train, y_train)\n",
    "        y_predicted = clf.predict(X_test)\n",
    "        \n",
    "        r[0].append(metric_fn(y_test, y_predicted)) \n",
    "        \n",
    "        # Evaluacion del clasificador con K Nearest Neighbours\n",
    "        \n",
    "        X_test = X_numeric.iloc[test_indexes]\n",
    "        X_train = X_numeric.iloc[training_indexes]\n",
    "        \n",
    "        clf = KNNClassifier(7)\n",
    "        clf.fit(X_train, y_train)   \n",
    "        y_predicted = clf.predict(X_test)\n",
    "        \n",
    "        r[1].append(metric_fn(y_test, y_predicted)) \n",
    "        \n",
    "        for (i, t) in enumerate(tolerances):\n",
    "\n",
    "            y_test = le.fit_transform(y.iloc[test_indexes])\n",
    "            X_test = X_numeric.iloc[test_indexes].as_matrix()\n",
    "            y_train = le.fit_transform(y.iloc[training_indexes])\n",
    "            X_train = X_numeric.iloc[training_indexes].as_matrix()\n",
    "\n",
    "            clf = LRClassifier(t)\n",
    "            clf.fit(X_train, y_train)\n",
    "            y_predicted = clf.predict(X_test)\n",
    "            \n",
    "            r[i+2].append(metric_fn(y_test, y_predicted))\n",
    "        \n",
    "        print('[' + '>'*len(r[0]) + ' '*(10-len(r[0])) + ']', end='\\r')\n",
    "\n",
    "    return r"
   ]
  },
  {
   "cell_type": "markdown",
   "metadata": {},
   "source": [
    "### Evaluación de accuracy"
   ]
  },
  {
   "cell_type": "code",
   "execution_count": 16,
   "metadata": {},
   "outputs": [
    {
     "name": "stdout",
     "output_type": "stream",
     "text": [
      "[>>>>>>>>>>]\r"
     ]
    },
    {
     "data": {
      "image/png": "[encoded data removed]",
      "text/plain": [
       "<Figure size 720x720 with 1 Axes>"
      ]
     },
     "metadata": {},
     "output_type": "display_data"
    }
   ],
   "source": [
    "#tolerances = [0.1, 0.01]\n",
    "tolerances = [0.1]\n",
    "r = eval_algorithms(df_numeric, ds, y, tolerances, accuracy_score)\n",
    "plt.figure(figsize=(10,10))\n",
    "plt.ylabel('accuracy')\n",
    "plt.axis([0, 9, 0, 1])\n",
    "plt.grid(True)\n",
    "plt.plot(r[0], color='r', label='Naive Bayes')\n",
    "plt.plot(r[1], color='g', label='K Nearest Neighbours (K=7)')\n",
    "plt.plot(r[2], color='b', label='LR (tolerance = {})'.format(tolerances[0]))\n",
    "#plt.plot(r[3], color='c', label='LR (tolerance = {})'.format(tolerances[1]))\n",
    "plt.legend(loc=0)\n",
    "plt.show()"
   ]
  },
  {
   "cell_type": "code",
   "execution_count": 20,
   "metadata": {},
   "outputs": [
    {
     "name": "stdout",
     "output_type": "stream",
     "text": [
      "\n",
      "Promedio para Naive Bayes : 0.9356963838166846\n",
      "Promedio para K Nearest Neighbours (k=7) : 0.9435732187611887\n",
      "Promedio para Logistic Regression (tolerance=0.1) : 0.9517722878625132\n",
      "\n"
     ]
    }
   ],
   "source": [
    "print('\\nPromedio para Naive Bayes : {}'.format(np.mean(r[0])))\n",
    "print('Promedio para K Nearest Neighbours (k=7) : {}'.format(np.mean(r[1])))\n",
    "print('Promedio para Logistic Regression (tolerance=0.1) : {}\\n'.format(np.mean(r[2])))"
   ]
  },
  {
   "cell_type": "markdown",
   "metadata": {},
   "source": [
    "### Evaluación de accuracy sobre el dataset de test\n",
    "\n",
    "Aquí evaluaremos los tres algoritmos entrenando con el dataset de entrenamiento completo y evaluando en el dataset de test."
   ]
  },
  {
   "cell_type": "code",
   "execution_count": 21,
   "metadata": {},
   "outputs": [
    {
     "name": "stdout",
     "output_type": "stream",
     "text": [
      "\n",
      "K Nearest Neighbours (K=7): 0.9148936170212766\n",
      "Naive Bayes : 0.9290780141843972\n",
      "LR (tolerance = 0.1) : 0.9716312056737588\n",
      "\n"
     ]
    }
   ],
   "source": [
    "r = []\n",
    "\n",
    "clf = KNNClassifier(7)\n",
    "clf.fit(df_numeric, y)   \n",
    "y_predicted = clf.predict(df_t_numeric)\n",
    "r.append(accuracy_score(y_t, y_predicted))\n",
    "\n",
    "clf = NBClassifier(target_attribute, ds.attribute_info, ds.attribute_list)\n",
    "clf.fit(ds.pandas_df, y)\n",
    "y_predicted = clf.predict(ds_t.pandas_df)\n",
    "r.append(accuracy_score(y_t, y_predicted))\n",
    "\n",
    "le = LabelEncoder()\n",
    "clf = LRClassifier(0.1)\n",
    "clf.fit(df_numeric.as_matrix(), le.fit_transform(y))\n",
    "y_predicted = clf.predict(df_t_numeric.as_matrix())\n",
    "r.append(accuracy_score(le.fit_transform(y_t), y_predicted))\n",
    "\n",
    "print('\\nK Nearest Neighbours (K=7): {}'.format(r[0]))\n",
    "print('Naive Bayes : {}'.format(r[1]))\n",
    "print('LR (tolerance = 0.1) : {}\\n'.format(r[2]))"
   ]
  }
 ],
 "metadata": {
  "kernelspec": {
   "display_name": "Python 3",
   "language": "python",
   "name": "python3"
  },
  "language_info": {
   "codemirror_mode": {
    "name": "ipython",
    "version": 3
   },
   "file_extension": ".py",
   "mimetype": "text/x-python",
   "name": "python",
   "nbconvert_exporter": "python",
   "pygments_lexer": "ipython3",
   "version": "3.6.2"
  }
 },
 "nbformat": 4,
 "nbformat_minor": 2
}
